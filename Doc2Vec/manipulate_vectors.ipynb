{
 "cells": [
  {
   "cell_type": "markdown",
   "metadata": {},
   "source": [
    "# Manipulating Norm Vectors\n",
    "\n",
    "We use Doc2Vec to create sentence representations over contracts.\n",
    "Using such representations, we get a random norm sentence representation and modal verb (shall, may, must, etc) representations.\n",
    "We subtract the norm representation by the modal verb representation in the norm.\n",
    "Then, we add a modal verb representation to the norm with an oposite deontic meaning (e.g., remove a prohibition and add a permission).\n",
    "As result, we expect to obtain potential conflicts by \n",
    "\n",
    "## Doc2Vec\n",
    "\n",
    "We train a doc2vec model using norm sentences from 169 manufacturing contracts.\n"
   ]
  },
  {
   "cell_type": "code",
   "execution_count": 1,
   "metadata": {},
   "outputs": [
    {
     "name": "stderr",
     "output_type": "stream",
     "text": [
      "Using TensorFlow backend.\n",
      "/home/aires/anaconda2/lib/python2.7/site-packages/sklearn/cross_validation.py:44: DeprecationWarning: This module was deprecated in version 0.18 in favor of the model_selection module into which all the refactored classes and functions are moved. Also note that the interface of the new CV iterators are different from that of this module. This module will be removed in 0.20.\n",
      "  \"This module will be removed in 0.20.\", DeprecationWarning)\n"
     ]
    }
   ],
   "source": [
    "import sys\n",
    "import pickle\n",
    "import numpy as np\n",
    "import process_norms\n",
    "from process_norms import ProcessNorms"
   ]
  },
  {
   "cell_type": "code",
   "execution_count": 2,
   "metadata": {},
   "outputs": [],
   "source": [
    "d2v_path = 'models/model_2017-11-03_21-39-30.doc2vec'\n",
    "dict_path = 'models/model_2017-11-03_21-39-30.pkl'\n",
    "sent_cls_path = 'sentence_classifier/classifiers/17-11-03_18:45/sentence_classifier_17-11-03_18:45.pkl'\n",
    "sent_cls_names_path = 'sentence_classifier/classifiers/17-11-03_18:45/sentence_classifier_dict_17-11-03_18:45.pkl'"
   ]
  },
  {
   "cell_type": "code",
   "execution_count": 3,
   "metadata": {
    "collapsed": true
   },
   "outputs": [],
   "source": [
    "def load_dict(path):\n",
    "\n",
    "    dict_file = open(path, 'r')\n",
    "    p_dict = pickle.load(dict_file)\n",
    "\n",
    "    return p_dict"
   ]
  },
  {
   "cell_type": "code",
   "execution_count": 4,
   "metadata": {
    "collapsed": true
   },
   "outputs": [],
   "source": [
    "def print_list(l):\n",
    "    \n",
    "    return ' '.join(l)"
   ]
  },
  {
   "cell_type": "code",
   "execution_count": 5,
   "metadata": {
    "collapsed": true
   },
   "outputs": [],
   "source": [
    "def print_similar(similar_vecs):\n",
    "# Run over similar vectors and print the sentences.\n",
    "    for similar in similar_vecs:\n",
    "        print '{}\\t {}\\n'.format(print_list(sent_dict[similar[0]]), similar[1])"
   ]
  },
  {
   "cell_type": "code",
   "execution_count": 6,
   "metadata": {},
   "outputs": [],
   "source": [
    "# Instantiate the ProcessNorms class.\n",
    "pn = ProcessNorms(d2v_path, sent_cls_path, sent_cls_names_path)"
   ]
  },
  {
   "cell_type": "code",
   "execution_count": 7,
   "metadata": {
    "collapsed": true
   },
   "outputs": [],
   "source": [
    "# Load dict.\n",
    "sent_dict = load_dict(dict_path)"
   ]
  },
  {
   "cell_type": "code",
   "execution_count": 21,
   "metadata": {},
   "outputs": [
    {
     "name": "stdout",
     "output_type": "stream",
     "text": [
      "If a shipment of Finished Product ordered by Santarus under this Agreement has not been delivered at the shipping point within *** Business Days after the scheduled delivery date (any date of delivery that is more than *** Business Days after the scheduled delivery date is hereinafter referred to as a \"LATE DELIVERY DATE\") stated on the corresponding Firm Purchase Order (a \"LATE SHIPMENT\"), or if the shipment received by Santarus contains less than the quantity specified in the corresponding Firm Purchase Order (a \"SHORT SHIPMENT\"), Santarus shall notify Patheon promptly upon such discovery and , in any event, not later than *** days after receipt of, or failure to receive, such ordered Finished Product.\n"
     ]
    }
   ],
   "source": [
    "# Get a random norm sentence.\n",
    "random_key = 'SENT_777'\n",
    "if random_key in pn.doc2vec_model.docvecs:\n",
    "    rand_sent_vec = pn.doc2vec_model.docvecs[random_key]\n",
    "    print print_list(sent_dict[random_key])\n",
    "else:\n",
    "    print \"Unknown key.\""
   ]
  },
  {
   "cell_type": "code",
   "execution_count": 9,
   "metadata": {},
   "outputs": [],
   "source": [
    "# Subtract the obligation word from the sentence.\n",
    "sub_vector = pn.doc2vec_model['will']  # Get subtraction vector.\n",
    "add_vector = pn.doc2vec_model['may']  # Get adition vector.\n",
    "no_modal = np.subtract(rand_sent_vec, sub_vector)  # Subtract vector from our sentence representation.\n",
    "new_sent = np.add(no_modal, add_vector)  # Add vector to the sentence representation."
   ]
  },
  {
   "cell_type": "code",
   "execution_count": 10,
   "metadata": {},
   "outputs": [
    {
     "name": "stdout",
     "output_type": "stream",
     "text": [
      "The indemnitee shall be entitled to any and all remedies available at law or in equity, including without limitation, damages and all equitable remedies, as a means of collecting the indemnification to which entitled.\t 0.367222994566\n",
      "\n",
      "Notwithstanding the provision of this Section 13.2, the Parties agree that certain violations or threatened violations of this Agreement will result in irrevocable harm to other Party, for which damages would be an inadequate remedy.\t 0.362473934889\n",
      "\n",
      "Topps shall then, at its sole expense, (i) settle or defend (with counsel of its own choice) any such claim brought against Hershey and/or Topps, (ii) procure for Topps the right or rights necessary to manufacture, package and sell the Packaged Product or replace or modify the Product, Packaging or Packaged Product, and (iii) to the extent required by a court adjudicating the claim or as agreed in a settlement agreement respecting the claim, remove the affected Product, Packaging and Packaged Product from Hershey s inventory and pay Hershey the purchase price for all affected units of the Product, Packaging and Packaged Product.\t 0.358110040426\n",
      "\n"
     ]
    }
   ],
   "source": [
    "# Find similar vectors based on our new vector.\n",
    "similar_vecs = pn.doc2vec_model.docvecs.most_similar([new_sent], topn=3)\n",
    "print_similar(similar_vecs)"
   ]
  },
  {
   "cell_type": "code",
   "execution_count": 11,
   "metadata": {},
   "outputs": [
    {
     "name": "stdout",
     "output_type": "stream",
     "text": [
      "In any action to enforce this Agreement the prevailing party will be entitled to costs and attorneys' fees.\t 0.936549544334\n",
      "\n",
      "In any dispute resolution proceeding between the parties in connection with this Agreement, the prevailing party will be entitled to its reasonable attorney's fees and costs in such proceeding.\t 0.653523206711\n",
      "\n",
      "In any action to enforce this Agreement, the prevailing party shall be awarded all court costs and reasonable attorney fees incurred.\t 0.613260388374\n",
      "\n"
     ]
    }
   ],
   "source": [
    "# Find similar vectors based on the original sentence.\n",
    "similar_vecs = pn.doc2vec_model.docvecs.most_similar(random_key, topn=3)\n",
    "print_similar(similar_vecs)"
   ]
  }
 ],
 "metadata": {
  "kernelspec": {
   "display_name": "Python 2",
   "language": "python",
   "name": "python2"
  },
  "language_info": {
   "codemirror_mode": {
    "name": "ipython",
    "version": 2
   },
   "file_extension": ".py",
   "mimetype": "text/x-python",
   "name": "python",
   "nbconvert_exporter": "python",
   "pygments_lexer": "ipython2",
   "version": "2.7.13"
  }
 },
 "nbformat": 4,
 "nbformat_minor": 2
}
