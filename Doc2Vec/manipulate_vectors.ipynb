{
 "cells": [
  {
   "cell_type": "markdown",
   "metadata": {},
   "source": [
    "# Manipulating Norm Vectors\n",
    "\n",
    "We use Doc2Vec to create sentence representations over contracts.\n",
    "Using such representations, we get a random norm sentence representation and modal verb (shall, may, must, etc) representations.\n",
    "We subtract the norm representation by the modal verb representation in the norm.\n",
    "Then, we add a modal verb representation to the norm with an oposite deontic meaning (e.g., remove a prohibition and add a permission).\n",
    "As result, we expect to obtain potential conflicts by \n",
    "\n",
    "## Doc2Vec\n",
    "\n",
    "We train a doc2vec model using norm sentences from 169 manufacturing contracts.\n"
   ]
  },
  {
   "cell_type": "code",
   "execution_count": 1,
   "metadata": {},
   "outputs": [
    {
     "name": "stderr",
     "output_type": "stream",
     "text": [
      "Using TensorFlow backend.\n",
      "/home/aires/anaconda2/lib/python2.7/site-packages/sklearn/cross_validation.py:44: DeprecationWarning: This module was deprecated in version 0.18 in favor of the model_selection module into which all the refactored classes and functions are moved. Also note that the interface of the new CV iterators are different from that of this module. This module will be removed in 0.20.\n",
      "  \"This module will be removed in 0.20.\", DeprecationWarning)\n"
     ]
    }
   ],
   "source": [
    "import sys\n",
    "import pickle\n",
    "import numpy as np\n",
    "import process_norms\n",
    "from process_norms import ProcessNorms"
   ]
  },
  {
   "cell_type": "code",
   "execution_count": 2,
   "metadata": {
    "collapsed": true
   },
   "outputs": [],
   "source": [
    "d2v_path = 'models/model_2017-11-03_21-39-30.doc2vec'\n",
    "dict_path = 'models/model_2017-11-03_21-39-30.pkl'\n",
    "sent_cls_path = 'sentence_classifier/classifiers/17-11-03_18:45/sentence_classifier_17-11-03_18:45.pkl'\n",
    "sent_cls_names_path = 'sentence_classifier/classifiers/17-11-03_18:45/sentence_classifier_dict_17-11-03_18:45.pkl'"
   ]
  },
  {
   "cell_type": "code",
   "execution_count": 3,
   "metadata": {
    "collapsed": true
   },
   "outputs": [],
   "source": [
    "def load_dict(path):\n",
    "\n",
    "    dict_file = open(path, 'r')\n",
    "    p_dict = pickle.load(dict_file)\n",
    "\n",
    "    return p_dict"
   ]
  },
  {
   "cell_type": "code",
   "execution_count": 4,
   "metadata": {
    "collapsed": true
   },
   "outputs": [],
   "source": [
    "def print_list(l):\n",
    "    \n",
    "    return ' '.join(l)"
   ]
  },
  {
   "cell_type": "code",
   "execution_count": 5,
   "metadata": {
    "collapsed": true
   },
   "outputs": [],
   "source": [
    "def print_similar(similar_vecs):\n",
    "# Run over similar vectors and print the sentences.\n",
    "    for similar in similar_vecs:\n",
    "        print '{}\\t {}\\n'.format(print_list(sent_dict[similar[0]]), similar[1])"
   ]
  },
  {
   "cell_type": "code",
   "execution_count": 6,
   "metadata": {
    "collapsed": true
   },
   "outputs": [],
   "source": [
    "# Instantiate the ProcessNorms class.\n",
    "pn = ProcessNorms(d2v_path, sent_cls_path, sent_cls_names_path)"
   ]
  },
  {
   "cell_type": "code",
   "execution_count": 7,
   "metadata": {
    "collapsed": true
   },
   "outputs": [],
   "source": [
    "# Load dict.\n",
    "sent_dict = load_dict(dict_path)"
   ]
  },
  {
   "cell_type": "code",
   "execution_count": 15,
   "metadata": {},
   "outputs": [
    {
     "name": "stdout",
     "output_type": "stream",
     "text": [
      "24 25 (B) Before making an offer of employment to any individual who is employed by Motorola during the term of this Agreement, ASE shall provide notice of its intent to make such an offer to Motorola's designated manager, and ASE and Motorola shall then discuss the circumstances which led to ASE's potential employment offer and the impact on their business relationship should any offer be made by ASE and accepted by such individual.\n"
     ]
    }
   ],
   "source": [
    "# Get a random norm sentence.\n",
    "random_key = 'SENT_399'\n",
    "if random_key in pn.doc2vec_model.docvecs:\n",
    "    rand_sent_vec = pn.doc2vec_model.docvecs[random_key]\n",
    "    print print_list(sent_dict[random_key])\n",
    "else:\n",
    "    print \"Unknown key.\""
   ]
  },
  {
   "cell_type": "code",
   "execution_count": 16,
   "metadata": {
    "collapsed": true
   },
   "outputs": [],
   "source": [
    "# Subtract the obligation word from the sentence.\n",
    "sub_vector = pn.doc2vec_model['shall']  # Get subtraction vector.\n",
    "add_vector = pn.doc2vec_model['may']  # Get adition vector.\n",
    "no_modal = np.subtract(rand_sent_vec, sub_vector)  # Subtract vector from our sentence representation.\n",
    "new_sent = np.add(no_modal, add_vector)  # Add vector to the sentence representation."
   ]
  },
  {
   "cell_type": "code",
   "execution_count": 17,
   "metadata": {},
   "outputs": [
    {
     "name": "stdout",
     "output_type": "stream",
     "text": [
      "(B) Before making an offer of employment to any individual who is employed by Motorola during the term of this Agreement, ASE shall provide notice of its intent to make such an offer to Motorola's designated manager, and ASE and Motorola shall then discuss the circumstances which led to ASE's potential employment offer and the impact on their business relationship should any offer be made by ASE and accepted by such individual.\t 0.42848226428\n",
      "\n",
      "An interim franchise must be in writing and must make certain disclosures, including that it is an interim franchise and that the franchisor has the right not to renew the franchise at the end of the term based upon a lawful determination to withdraw from marketing activities in the geographic area in which the franchisee operates.\t 0.415696650743\n",
      "\n",
      "The parties will not disclose to any third party that notice has been given, that discussions are taking place or the content of any such notice or discussions, except that either party may issue any press release or make any public disclosure which such party determines to be required by law or by the rules or regulations of any selfregulating securities exchange.\t 0.400486111641\n",
      "\n"
     ]
    }
   ],
   "source": [
    "# Find similar vectors based on our new vector.\n",
    "similar_vecs = pn.doc2vec_model.docvecs.most_similar([new_sent], topn=3)\n",
    "print_similar(similar_vecs)"
   ]
  },
  {
   "cell_type": "code",
   "execution_count": 11,
   "metadata": {},
   "outputs": [
    {
     "name": "stdout",
     "output_type": "stream",
     "text": [
      "All notices shall be sent by registered or certified mail, return receipt requested, by delivery or by Federal Express or other comparable courier providing proof of delivery, and shall be deemed duly given and received (i) if mailed, on the tenth business day following the mailing thereof, or (ii) if sent by courier or if delivered, the date of its receipt (or, if such day is not a business day, the next succeeding business day).\t 0.551526606083\n",
      "\n",
      "If order acknowledgment is not received with [*], the WA will be deemed to be accepted by Supplier.\t 0.546704411507\n",
      "\n",
      "Each Firm Purchase Order shall specify the quantity or, if more than one shipment is requested, quantities of Finished Product ordered, the requested delivery date or dates, the delivery address(es) and any applicable shipping information (if different from that specified in Section 2.3).\t 0.531639814377\n",
      "\n"
     ]
    }
   ],
   "source": [
    "# Find similar vectors based on the original sentence.\n",
    "similar_vecs = pn.doc2vec_model.docvecs.most_similar(random_key, topn=3)\n",
    "print_similar(similar_vecs)"
   ]
  }
 ],
 "metadata": {
  "kernelspec": {
   "display_name": "Python 2",
   "language": "python",
   "name": "python2"
  },
  "language_info": {
   "codemirror_mode": {
    "name": "ipython",
    "version": 2
   },
   "file_extension": ".py",
   "mimetype": "text/x-python",
   "name": "python",
   "nbconvert_exporter": "python",
   "pygments_lexer": "ipython2",
   "version": "2.7.14"
  }
 },
 "nbformat": 4,
 "nbformat_minor": 2
}
