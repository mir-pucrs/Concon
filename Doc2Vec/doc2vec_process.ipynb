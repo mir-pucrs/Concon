{
 "cells": [
  {
   "cell_type": "markdown",
   "metadata": {},
   "source": [
    "# Doc2Vec Process\n",
    "\n",
    "We divide this process into three steps:\n",
    "\n",
    "- **Doc2Vec Model Trainng**: Using contracts, we train a doc2vec model to turn contract sentences into representations.\n",
    "\n",
    "- **Processing a New Contract**: Given the doc2vec model, we start the process in a new contract.\n",
    "\n",
    "    - Norm Extraction: First, we extract the norms from the new contract;\n",
    "    - Then, we create a representation for each norm using the doc2vec model.\n",
    "    \n",
    "- **Conflict Identification**: Using the norm representations, we can have two different paths to follow:\n",
    "\n",
    "    - T-SNE: Manual identification of modal verbs. (Experimental)\n",
    "    - Norm Comparisons: Compare norms and find the most similar among them based on a threshold."
   ]
  },
  {
   "cell_type": "markdown",
   "metadata": {},
   "source": [
    "### Doc2Vec Model Training"
   ]
  },
  {
   "cell_type": "code",
   "execution_count": 1,
   "metadata": {},
   "outputs": [
    {
     "name": "stderr",
     "output_type": "stream",
     "text": [
      "Using TensorFlow backend.\n",
      "/home/aires/anaconda2/lib/python2.7/site-packages/sklearn/cross_validation.py:44: DeprecationWarning: This module was deprecated in version 0.18 in favor of the model_selection module into which all the refactored classes and functions are moved. Also note that the interface of the new CV iterators are different from that of this module. This module will be removed in 0.20.\n",
      "  \"This module will be removed in 0.20.\", DeprecationWarning)\n"
     ]
    }
   ],
   "source": [
    "# -*- coding:utf-8 -*-\n",
    "import os\n",
    "import sys\n",
    "import pickle\n",
    "import argparse\n",
    "import logging\n",
    "from random import shuffle\n",
    "from convert_to_sentences import convert_to_sentences\n",
    "from time import gmtime, strftime\n",
    "from gensim.models import Doc2Vec\n",
    "from gensim.models.doc2vec import TaggedDocument\n",
    "from sentence_classifier.sentence_classifier import SentenceClassifier"
   ]
  },
  {
   "cell_type": "code",
   "execution_count": 14,
   "metadata": {
    "collapsed": true
   },
   "outputs": [],
   "source": [
    "# CONSTANTS.\n",
    "MODEL_BASE_NAME = 'models/model_2017-12-04_19-50-36'\n",
    "TRAIN = False\n",
    "TRAIN_PATH = 'dataset/manufact_cntrcs.txt'\n",
    "PREPROCESS = False\n",
    "TEST = True\n",
    "TEST_PATH = MODEL_BASE_NAME + '.doc2vec'\n",
    "MODEL = False\n",
    "MODEL_PATH = 'model_2017-11-27_18-21-45.doc2vec'"
   ]
  },
  {
   "cell_type": "code",
   "execution_count": 3,
   "metadata": {
    "collapsed": true
   },
   "outputs": [],
   "source": [
    "# Set argparse.\n",
    "parser = argparse.ArgumentParser(description='Convert sentences and paragraphs into a dense representation.')\n",
    "\n",
    "# Set logger.\n",
    "logger = logging.getLogger(__name__)\n",
    "logger.setLevel(logging.INFO)\n",
    "\n",
    "formatter = logging.Formatter('%(asctime)s:%(levelname)s:%(message)s')\n",
    "\n",
    "file_handler = logging.FileHandler('logs/doc2vec.log')\n",
    "file_handler.setFormatter(formatter)\n",
    "\n",
    "logger.addHandler(file_handler)"
   ]
  },
  {
   "cell_type": "code",
   "execution_count": 4,
   "metadata": {
    "collapsed": true
   },
   "outputs": [],
   "source": [
    "# Set sentence classifier.\n",
    "sent_cls_path = 'sentence_classifier/classifiers/17-11-03_18:45/sentence_classifier_17-11-03_18:45.pkl'\n",
    "sent_cls_names_path = 'sentence_classifier/classifiers/17-11-03_18:45/sentence_classifier_dict_17-11-03_18:45.pkl'\n",
    "sent_cls = SentenceClassifier()\n",
    "sent_cls.load_classifier(sent_cls_path)\n",
    "sent_cls_names = pickle.load(open(sent_cls_names_path, 'r'))\n",
    "sent_cls.set_names(sent_cls_names)"
   ]
  },
  {
   "cell_type": "code",
   "execution_count": 5,
   "metadata": {
    "collapsed": true
   },
   "outputs": [],
   "source": [
    "class LabeledLineSentence(object):\n",
    "    def __init__(self, filename):\n",
    "        self.filename = filename\n",
    "        self.sentences = []\n",
    "        self.vocab = dict()\n",
    "\n",
    "    def __iter__(self):\n",
    "        for uid, line in enumerate(open(self.filename)):\n",
    "            for token in line.split():\n",
    "                if token not in self.vocab:\n",
    "                    self.vocab[token] = True\n",
    "            yield TaggedDocument(words=line.split(), tags=['SENT_%s' % uid])\n",
    "\n",
    "    def sentences_perm(self):\n",
    "        shuffle(self.sentences)\n",
    "        return self.sentences\n",
    "    \n",
    "    def save_vocab(self):\n",
    "        pickle.dump(self.vocab, open('vocab.pkl', 'w'))"
   ]
  },
  {
   "cell_type": "code",
   "execution_count": 6,
   "metadata": {
    "collapsed": true
   },
   "outputs": [],
   "source": [
    "def get_model_path():\n",
    "\n",
    "    logger.info('Generating output path.')\n",
    "    if not os.path.isdir('models'):\n",
    "        os.makedirs('models')\n",
    "\n",
    "    return 'models/model_' + strftime(\"%Y-%m-%d_%H-%M-%S.doc2vec\", gmtime())"
   ]
  },
  {
   "cell_type": "code",
   "execution_count": 7,
   "metadata": {
    "collapsed": true
   },
   "outputs": [],
   "source": [
    "def train_model(sentences, model=None):\n",
    "    logger.info('Training model.')\n",
    "\n",
    "    if not model:\n",
    "        model = Doc2Vec(size=100, window=2, min_count=2, workers=2, alpha=0.025, min_alpha=0.025)\n",
    "\n",
    "    model.build_vocab(sentences)\n",
    "    \n",
    "    for epoch in range(10):\n",
    "        model.train(sentences, total_examples=model.corpus_count, epochs=model.iter)\n",
    "        model.alpha -= 0.002  # decrease the learning rate\n",
    "        model.min_alpha = model.alpha  # fix the learning rate, no decay\n",
    "\n",
    "    output_path = get_model_path()\n",
    "\n",
    "    logger.info('Saving trained model.')\n",
    "    model.save(output_path)\n",
    "\n",
    "    return output_path"
   ]
  },
  {
   "cell_type": "code",
   "execution_count": 8,
   "metadata": {
    "collapsed": true
   },
   "outputs": [],
   "source": [
    "def create_sent_dict(sentences):\n",
    "\n",
    "    s_dict = dict()\n",
    "\n",
    "    for sent in sentences:\n",
    "        s_dict[sent[1][0]] = sent[0]\n",
    "\n",
    "    return s_dict"
   ]
  },
  {
   "cell_type": "code",
   "execution_count": 15,
   "metadata": {
    "scrolled": true
   },
   "outputs": [],
   "source": [
    "if TRAIN:\n",
    "\n",
    "    file_path = TRAIN_PATH\n",
    "\n",
    "    logger.info('Receive training path: %s' % file_path)\n",
    "\n",
    "    # Get sentences.\n",
    "    if PREPROCESS:\n",
    "        logger.info('Preprocessing file.')\n",
    "        file_path = convert_to_sentences(file_path)\n",
    "\n",
    "    sentences = LabeledLineSentence(file_path)\n",
    "    \n",
    "    sentences.save_vocab()\n",
    "    \n",
    "    # Create a dict to convert a sent code into its respective sentence.\n",
    "    sent_dict = create_sent_dict(sentences)\n",
    "\n",
    "    if not MODEL:\n",
    "        model = train_model(sentences)\n",
    "    else:\n",
    "        old_model = Doc2Vec.load(MODEL_PATH)\n",
    "        model = train_model(sentences, old_model)\n",
    "\n",
    "    base, _ = os.path.splitext(model)\n",
    "\n",
    "    # Save the dict.\n",
    "    pickle.dump(sent_dict, open(base + '.pkl', 'w'))\n",
    "\n",
    "elif TEST:\n",
    "    model = Doc2Vec.load(TEST_PATH)\n",
    "    sent_dict = pickle.load(open(MODEL_BASE_NAME + '.pkl', 'r'))\n",
    "    \n",
    "else:\n",
    "    print \"Nothing to do here.\""
   ]
  },
  {
   "cell_type": "markdown",
   "metadata": {},
   "source": [
    "### Processing a new contract"
   ]
  },
  {
   "cell_type": "code",
   "execution_count": 16,
   "metadata": {
    "collapsed": true
   },
   "outputs": [],
   "source": [
    "import pickle\n",
    "import numpy as np\n",
    "from nltk.tokenize import sent_tokenize"
   ]
  },
  {
   "cell_type": "code",
   "execution_count": 17,
   "metadata": {},
   "outputs": [
    {
     "data": {
      "text/plain": [
       "array([ 0.06790036,  0.04055977, -0.0684411 ,  0.03933974, -0.03659917,\n",
       "       -0.02640558,  0.02619336,  0.04344094,  0.0493461 , -0.04965301,\n",
       "       -0.01697304, -0.01788192, -0.0027094 , -0.05245531, -0.03431024,\n",
       "        0.02956641,  0.00694542,  0.03583742,  0.13673346,  0.00476387,\n",
       "        0.09217563,  0.08370192, -0.07268881, -0.11788809, -0.09000862,\n",
       "        0.03240034, -0.01577382,  0.01591088,  0.00127688, -0.10395204,\n",
       "        0.00220732,  0.14119275,  0.09290379,  0.05786966,  0.02603045,\n",
       "        0.0099138 , -0.0409131 , -0.02562972, -0.05184904, -0.02904597,\n",
       "        0.0485239 ,  0.15066943,  0.02394779, -0.07068499, -0.03604756,\n",
       "        0.07881876, -0.05150216,  0.03845914,  0.03692538, -0.02614806,\n",
       "        0.08093952, -0.03397892, -0.08648488, -0.01480197,  0.09660164,\n",
       "       -0.12012898, -0.09753798,  0.06718577,  0.03404033, -0.03653711,\n",
       "        0.06166851,  0.038797  , -0.07138322, -0.02902924, -0.06312327,\n",
       "        0.01926978,  0.00876452,  0.05563311, -0.05131899,  0.01319859,\n",
       "       -0.05911596,  0.00962741,  0.08915624,  0.05022904, -0.09242646,\n",
       "        0.08702241, -0.01613335, -0.15138029,  0.16323759,  0.00978709,\n",
       "        0.00929537, -0.00960029,  0.12722486, -0.12221567, -0.04275169,\n",
       "       -0.03188609, -0.07222919, -0.06582676, -0.05501894, -0.09626951,\n",
       "        0.06368073,  0.00487002, -0.06087508, -0.02056574,  0.10749241,\n",
       "        0.07513034, -0.00152295,  0.02435423, -0.00129587,  0.01294069], dtype=float32)"
      ]
     },
     "execution_count": 17,
     "metadata": {},
     "output_type": "execute_result"
    }
   ],
   "source": [
    "model.infer_vector('must')"
   ]
  },
  {
   "cell_type": "code",
   "execution_count": 18,
   "metadata": {
    "collapsed": true
   },
   "outputs": [],
   "source": [
    "contract_path = 'dataset/lease_contract.txt'"
   ]
  },
  {
   "cell_type": "code",
   "execution_count": 19,
   "metadata": {
    "collapsed": true
   },
   "outputs": [],
   "source": [
    "def extract_norms(sentences, path_to_classifier):    \n",
    "    # Load sentence classifier.\n",
    "    norms = []\n",
    "    \n",
    "    for sent in sentences:\n",
    "        \n",
    "        pred = sent_cls.predict_class([sent])\n",
    "        \n",
    "        if pred[0]:\n",
    "            norms.append(sent)\n",
    "    \n",
    "    return norms"
   ]
  },
  {
   "cell_type": "code",
   "execution_count": 20,
   "metadata": {},
   "outputs": [],
   "source": [
    "# Read contract text.\n",
    "text = open(contract_path, 'r').read().decode('utf-8')\n",
    "logger.info(\"Text extracted: {}\".format(text[:100]))\n",
    "\n",
    "# Extract sentences.\n",
    "sentences = sent_tokenize(text)\n",
    "logger.info(\"Sentences extracted: {}\".format(sentences[:5]))\n",
    "\n",
    "# Extract Norms.\n",
    "norms = extract_norms(sentences, sent_cls_path)\n",
    "logger.info(\"Norms extracted: {}\".format(norms[:2]))\n",
    "\n",
    "# Get norm representations.\n",
    "norm_representations = np.zeros(shape=(len(norms), 100))\n",
    "norm_text = dict()\n",
    "\n",
    "for i, norm in enumerate(norms):\n",
    "    norm_text[i] = norm\n",
    "    norm_representations[i] = model.infer_vector(norm)"
   ]
  },
  {
   "cell_type": "markdown",
   "metadata": {},
   "source": [
    "### Conflict Identification\n",
    "\n",
    "We divide this section into two subsections: T-SNE and Norm Representation Comparison"
   ]
  },
  {
   "cell_type": "markdown",
   "metadata": {},
   "source": [
    "##### T-SNE"
   ]
  },
  {
   "cell_type": "code",
   "execution_count": 21,
   "metadata": {
    "collapsed": true
   },
   "outputs": [],
   "source": [
    "from  matplotlib import pyplot as plt\n",
    "from sklearn.manifold import TSNE"
   ]
  },
  {
   "cell_type": "code",
   "execution_count": null,
   "metadata": {
    "collapsed": true
   },
   "outputs": [],
   "source": [
    "# Get vocabulary.\n",
    "vocab = pickle.load(open('vocab.pkl', 'r'))\n",
    "words = []\n",
    "reps = []\n",
    "\n",
    "for k in vocab:\n",
    "    words.append(k)\n",
    "    reps.append(model.infer_vector(k))"
   ]
  },
  {
   "cell_type": "code",
   "execution_count": 22,
   "metadata": {},
   "outputs": [
    {
     "data": {
      "image/png": "[encoded data removed]",
      "text/plain": [
       "<matplotlib.figure.Figure at 0x7f91b8d3a050>"
      ]
     },
     "metadata": {},
     "output_type": "display_data"
    },
    {
     "ename": "ValueError",
     "evalue": "The truth value of an array with more than one element is ambiguous. Use a.any() or a.all()",
     "output_type": "error",
     "traceback": [
      "\u001b[0;31m---------------------------------------------------------------------------\u001b[0m",
      "\u001b[0;31mValueError\u001b[0m                                Traceback (most recent call last)",
      "\u001b[0;32m<ipython-input-22-4a6f2a52e160>\u001b[0m in \u001b[0;36m<module>\u001b[0;34m()\u001b[0m\n\u001b[1;32m      1\u001b[0m \u001b[0mX_tsne\u001b[0m \u001b[0;34m=\u001b[0m \u001b[0mTSNE\u001b[0m\u001b[0;34m(\u001b[0m\u001b[0mn_components\u001b[0m\u001b[0;34m=\u001b[0m\u001b[0;36m2\u001b[0m\u001b[0;34m)\u001b[0m\u001b[0;34m.\u001b[0m\u001b[0mfit_transform\u001b[0m\u001b[0;34m(\u001b[0m\u001b[0mnorm_representations\u001b[0m\u001b[0;34m)\u001b[0m\u001b[0;34m\u001b[0m\u001b[0m\n\u001b[1;32m      2\u001b[0m \u001b[0mplt\u001b[0m\u001b[0;34m.\u001b[0m\u001b[0mplot\u001b[0m\u001b[0;34m(\u001b[0m\u001b[0mX_tsne\u001b[0m\u001b[0;34m,\u001b[0m \u001b[0;34m'bo'\u001b[0m\u001b[0;34m)\u001b[0m\u001b[0;34m\u001b[0m\u001b[0m\n\u001b[0;32m----> 3\u001b[0;31m \u001b[0mplt\u001b[0m\u001b[0;34m.\u001b[0m\u001b[0mshow\u001b[0m\u001b[0;34m(\u001b[0m\u001b[0mX_tsne\u001b[0m\u001b[0;34m)\u001b[0m\u001b[0;34m\u001b[0m\u001b[0m\n\u001b[0m",
      "\u001b[0;32m/home/aires/anaconda2/lib/python2.7/site-packages/matplotlib/pyplot.pyc\u001b[0m in \u001b[0;36mshow\u001b[0;34m(*args, **kw)\u001b[0m\n\u001b[1;32m    249\u001b[0m     \"\"\"\n\u001b[1;32m    250\u001b[0m     \u001b[0;32mglobal\u001b[0m \u001b[0m_show\u001b[0m\u001b[0;34m\u001b[0m\u001b[0m\n\u001b[0;32m--> 251\u001b[0;31m     \u001b[0;32mreturn\u001b[0m \u001b[0m_show\u001b[0m\u001b[0;34m(\u001b[0m\u001b[0;34m*\u001b[0m\u001b[0margs\u001b[0m\u001b[0;34m,\u001b[0m \u001b[0;34m**\u001b[0m\u001b[0mkw\u001b[0m\u001b[0;34m)\u001b[0m\u001b[0;34m\u001b[0m\u001b[0m\n\u001b[0m\u001b[1;32m    252\u001b[0m \u001b[0;34m\u001b[0m\u001b[0m\n\u001b[1;32m    253\u001b[0m \u001b[0;34m\u001b[0m\u001b[0m\n",
      "\u001b[0;32m/home/aires/anaconda2/lib/python2.7/site-packages/ipykernel/pylab/backend_inline.pyc\u001b[0m in \u001b[0;36mshow\u001b[0;34m(close, block)\u001b[0m\n\u001b[1;32m     39\u001b[0m         \u001b[0;31m# only call close('all') if any to close\u001b[0m\u001b[0;34m\u001b[0m\u001b[0;34m\u001b[0m\u001b[0m\n\u001b[1;32m     40\u001b[0m         \u001b[0;31m# close triggers gc.collect, which can be slow\u001b[0m\u001b[0;34m\u001b[0m\u001b[0;34m\u001b[0m\u001b[0m\n\u001b[0;32m---> 41\u001b[0;31m         \u001b[0;32mif\u001b[0m \u001b[0mclose\u001b[0m \u001b[0;32mand\u001b[0m \u001b[0mGcf\u001b[0m\u001b[0;34m.\u001b[0m\u001b[0mget_all_fig_managers\u001b[0m\u001b[0;34m(\u001b[0m\u001b[0;34m)\u001b[0m\u001b[0;34m:\u001b[0m\u001b[0;34m\u001b[0m\u001b[0m\n\u001b[0m\u001b[1;32m     42\u001b[0m             \u001b[0mmatplotlib\u001b[0m\u001b[0;34m.\u001b[0m\u001b[0mpyplot\u001b[0m\u001b[0;34m.\u001b[0m\u001b[0mclose\u001b[0m\u001b[0;34m(\u001b[0m\u001b[0;34m'all'\u001b[0m\u001b[0;34m)\u001b[0m\u001b[0;34m\u001b[0m\u001b[0m\n\u001b[1;32m     43\u001b[0m \u001b[0;34m\u001b[0m\u001b[0m\n",
      "\u001b[0;31mValueError\u001b[0m: The truth value of an array with more than one element is ambiguous. Use a.any() or a.all()"
     ]
    }
   ],
   "source": [
    "X_tsne = TSNE(n_components=2).fit_transform(norm_representations)\n",
    "plt.plot(X_tsne, 'bo')\n",
    "plt.show(X_tsne)"
   ]
  },
  {
   "cell_type": "markdown",
   "metadata": {},
   "source": [
    "##### Norm Representation Comparison"
   ]
  },
  {
   "cell_type": "code",
   "execution_count": 23,
   "metadata": {
    "collapsed": true
   },
   "outputs": [],
   "source": [
    "threshold = 0.3"
   ]
  },
  {
   "cell_type": "code",
   "execution_count": 24,
   "metadata": {},
   "outputs": [],
   "source": [
    "def find_similars(indx, norm_rep, norm_representations):\n",
    "\n",
    "    sub = np.subtract(norm_rep, norm_representations)\n",
    "    absl = np.absolute(sub)\n",
    "    summ = absl.sum(axis=1)\n",
    "    max_val = np.max(summ)\n",
    "    diff = np.divide(summ, max_val)\n",
    "    \n",
    "    similar = np.where(diff < threshold)[0]\n",
    "    percents = []\n",
    "    for i in similar:\n",
    "        percents.append(diff[i])\n",
    "        \n",
    "    return similar, percents"
   ]
  },
  {
   "cell_type": "code",
   "execution_count": 25,
   "metadata": {},
   "outputs": [
    {
     "name": "stdout",
     "output_type": "stream",
     "text": [
      "Original: INSPECTION\n",
      "\n",
      "7.1 The LESSEE hereby authorizes the LESSOR to examine or inspect the rented Property, on a day and at a time previously agreed upon with the LESSEE. \n",
      "\n",
      " Potential Conflict: 2.2 The Parties establish that the LESSEE may return the Property before the end of the lease term, without incurring any penalty and/or fine at any time.\n",
      " Percentage: 0.28\n",
      "\n",
      "-----------------------------------------\n",
      "Original: In case LESSOR fails to do so, it shall exempt the GUARANTOR from any liability with respect to the suretyship. \n",
      "\n",
      " Potential Conflict: 2.2 The Parties establish that the LESSEE may return the Property before the end of the lease term, without incurring any penalty and/or fine at any time.\n",
      " Percentage: 0.29\n",
      "\n",
      "-----------------------------------------\n",
      "Original: APPLICABLE LEGISLATION\n",
      "\n",
      "17.1    Any cases not expressly covered herein shall be governed by Act no. \n",
      "\n",
      " Potential Conflict: For such purpose, the LESSEE shall notify the LESSOR in writing at least ten (10) days before the return date.\n",
      " Percentage: 0.29\n",
      "\n",
      "-----------------------------------------\n"
     ]
    }
   ],
   "source": [
    "# Run over norm representations.\n",
    "similars = dict()\n",
    "for ind, norm_rep in enumerate(norm_representations):\n",
    "    \n",
    "    similars[ind] = find_similars(ind, norm_rep, norm_representations)\n",
    "    if similars[ind]:\n",
    "        if float(similars[ind][1][0]) > 0.0:\n",
    "            print \"Original: %s \\n\\n Potential Conflict: %s\\n Percentage: %.2f\\n\\n-----------------------------------------\" % (norm_text[ind], norm_text[similars[ind][0][0]], similars[ind][1][0])"
   ]
  }
 ],
 "metadata": {
  "kernelspec": {
   "display_name": "Python 2",
   "language": "python",
   "name": "python2"
  },
  "language_info": {
   "codemirror_mode": {
    "name": "ipython",
    "version": 2
   },
   "file_extension": ".py",
   "mimetype": "text/x-python",
   "name": "python",
   "nbconvert_exporter": "python",
   "pygments_lexer": "ipython2",
   "version": "2.7.14"
  }
 },
 "nbformat": 4,
 "nbformat_minor": 2
}
